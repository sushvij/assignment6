{
 "cells": [
  {
   "cell_type": "code",
   "execution_count": 1,
   "metadata": {},
   "outputs": [
    {
     "name": "stdout",
     "output_type": "stream",
     "text": [
      "Requirement already satisfied: numpy in /Users/sushmitavijofficecomputer/miniconda3/envs/mle9-env/lib/python3.10/site-packages (1.23.3)\n",
      "Requirement already satisfied: pandas in /Users/sushmitavijofficecomputer/miniconda3/envs/mle9-env/lib/python3.10/site-packages (1.4.4)\n",
      "Requirement already satisfied: pandas_profiling in /Users/sushmitavijofficecomputer/miniconda3/envs/mle9-env/lib/python3.10/site-packages (3.3.0)\n",
      "Requirement already satisfied: pytz>=2020.1 in /Users/sushmitavijofficecomputer/miniconda3/envs/mle9-env/lib/python3.10/site-packages (from pandas) (2022.1)\n",
      "Requirement already satisfied: python-dateutil>=2.8.1 in /Users/sushmitavijofficecomputer/miniconda3/envs/mle9-env/lib/python3.10/site-packages (from pandas) (2.8.2)\n",
      "Requirement already satisfied: missingno<0.6,>=0.4.2 in /Users/sushmitavijofficecomputer/miniconda3/envs/mle9-env/lib/python3.10/site-packages (from pandas_profiling) (0.5.1)\n",
      "Requirement already satisfied: statsmodels<0.14,>=0.13.2 in /Users/sushmitavijofficecomputer/miniconda3/envs/mle9-env/lib/python3.10/site-packages (from pandas_profiling) (0.13.2)\n",
      "Requirement already satisfied: visions[type_image_path]==0.7.5 in /Users/sushmitavijofficecomputer/miniconda3/envs/mle9-env/lib/python3.10/site-packages (from pandas_profiling) (0.7.5)\n",
      "Requirement already satisfied: scipy<1.10,>=1.4.1 in /Users/sushmitavijofficecomputer/miniconda3/envs/mle9-env/lib/python3.10/site-packages (from pandas_profiling) (1.9.1)\n",
      "Requirement already satisfied: tangled-up-in-unicode==0.2.0 in /Users/sushmitavijofficecomputer/miniconda3/envs/mle9-env/lib/python3.10/site-packages (from pandas_profiling) (0.2.0)\n",
      "Requirement already satisfied: tqdm<4.65,>=4.48.2 in /Users/sushmitavijofficecomputer/miniconda3/envs/mle9-env/lib/python3.10/site-packages (from pandas_profiling) (4.64.1)\n",
      "Requirement already satisfied: pydantic<1.10,>=1.8.1 in /Users/sushmitavijofficecomputer/miniconda3/envs/mle9-env/lib/python3.10/site-packages (from pandas_profiling) (1.9.2)\n",
      "Requirement already satisfied: jinja2<3.2,>=2.11.1 in /Users/sushmitavijofficecomputer/miniconda3/envs/mle9-env/lib/python3.10/site-packages (from pandas_profiling) (3.1.2)\n",
      "Requirement already satisfied: joblib~=1.1.0 in /Users/sushmitavijofficecomputer/miniconda3/envs/mle9-env/lib/python3.10/site-packages (from pandas_profiling) (1.1.0)\n",
      "Requirement already satisfied: PyYAML<6.1,>=5.0.0 in /Users/sushmitavijofficecomputer/miniconda3/envs/mle9-env/lib/python3.10/site-packages (from pandas_profiling) (6.0)\n",
      "Requirement already satisfied: htmlmin==0.1.12 in /Users/sushmitavijofficecomputer/miniconda3/envs/mle9-env/lib/python3.10/site-packages (from pandas_profiling) (0.1.12)\n",
      "Requirement already satisfied: phik<0.13,>=0.11.1 in /Users/sushmitavijofficecomputer/miniconda3/envs/mle9-env/lib/python3.10/site-packages (from pandas_profiling) (0.12.2)\n",
      "Requirement already satisfied: requests<2.29,>=2.24.0 in /Users/sushmitavijofficecomputer/miniconda3/envs/mle9-env/lib/python3.10/site-packages (from pandas_profiling) (2.28.1)\n",
      "Requirement already satisfied: seaborn<0.12,>=0.10.1 in /Users/sushmitavijofficecomputer/miniconda3/envs/mle9-env/lib/python3.10/site-packages (from pandas_profiling) (0.11.2)\n",
      "Requirement already satisfied: matplotlib<3.6,>=3.2 in /Users/sushmitavijofficecomputer/miniconda3/envs/mle9-env/lib/python3.10/site-packages (from pandas_profiling) (3.5.3)\n",
      "Requirement already satisfied: multimethod<1.9,>=1.4 in /Users/sushmitavijofficecomputer/miniconda3/envs/mle9-env/lib/python3.10/site-packages (from pandas_profiling) (1.8)\n",
      "Requirement already satisfied: attrs>=19.3.0 in /Users/sushmitavijofficecomputer/miniconda3/envs/mle9-env/lib/python3.10/site-packages (from visions[type_image_path]==0.7.5->pandas_profiling) (22.1.0)\n",
      "Requirement already satisfied: networkx>=2.4 in /Users/sushmitavijofficecomputer/miniconda3/envs/mle9-env/lib/python3.10/site-packages (from visions[type_image_path]==0.7.5->pandas_profiling) (2.8.6)\n",
      "Requirement already satisfied: imagehash in /Users/sushmitavijofficecomputer/miniconda3/envs/mle9-env/lib/python3.10/site-packages (from visions[type_image_path]==0.7.5->pandas_profiling) (4.3.0)\n",
      "Requirement already satisfied: Pillow in /Users/sushmitavijofficecomputer/miniconda3/envs/mle9-env/lib/python3.10/site-packages (from visions[type_image_path]==0.7.5->pandas_profiling) (9.2.0)\n",
      "Requirement already satisfied: MarkupSafe>=2.0 in /Users/sushmitavijofficecomputer/miniconda3/envs/mle9-env/lib/python3.10/site-packages (from jinja2<3.2,>=2.11.1->pandas_profiling) (2.1.1)\n",
      "Requirement already satisfied: pyparsing>=2.2.1 in /Users/sushmitavijofficecomputer/miniconda3/envs/mle9-env/lib/python3.10/site-packages (from matplotlib<3.6,>=3.2->pandas_profiling) (3.0.9)\n",
      "Requirement already satisfied: fonttools>=4.22.0 in /Users/sushmitavijofficecomputer/miniconda3/envs/mle9-env/lib/python3.10/site-packages (from matplotlib<3.6,>=3.2->pandas_profiling) (4.37.3)\n",
      "Requirement already satisfied: kiwisolver>=1.0.1 in /Users/sushmitavijofficecomputer/miniconda3/envs/mle9-env/lib/python3.10/site-packages (from matplotlib<3.6,>=3.2->pandas_profiling) (1.4.4)\n",
      "Requirement already satisfied: packaging>=20.0 in /Users/sushmitavijofficecomputer/miniconda3/envs/mle9-env/lib/python3.10/site-packages (from matplotlib<3.6,>=3.2->pandas_profiling) (21.3)\n",
      "Requirement already satisfied: cycler>=0.10 in /Users/sushmitavijofficecomputer/miniconda3/envs/mle9-env/lib/python3.10/site-packages (from matplotlib<3.6,>=3.2->pandas_profiling) (0.11.0)\n",
      "Requirement already satisfied: typing-extensions>=3.7.4.3 in /Users/sushmitavijofficecomputer/miniconda3/envs/mle9-env/lib/python3.10/site-packages (from pydantic<1.10,>=1.8.1->pandas_profiling) (4.3.0)\n",
      "Requirement already satisfied: six>=1.5 in /Users/sushmitavijofficecomputer/miniconda3/envs/mle9-env/lib/python3.10/site-packages (from python-dateutil>=2.8.1->pandas) (1.16.0)\n",
      "Requirement already satisfied: charset-normalizer<3,>=2 in /Users/sushmitavijofficecomputer/miniconda3/envs/mle9-env/lib/python3.10/site-packages (from requests<2.29,>=2.24.0->pandas_profiling) (2.1.1)\n",
      "Requirement already satisfied: urllib3<1.27,>=1.21.1 in /Users/sushmitavijofficecomputer/miniconda3/envs/mle9-env/lib/python3.10/site-packages (from requests<2.29,>=2.24.0->pandas_profiling) (1.26.12)\n",
      "Requirement already satisfied: certifi>=2017.4.17 in /Users/sushmitavijofficecomputer/miniconda3/envs/mle9-env/lib/python3.10/site-packages (from requests<2.29,>=2.24.0->pandas_profiling) (2022.6.15)\n",
      "Requirement already satisfied: idna<4,>=2.5 in /Users/sushmitavijofficecomputer/miniconda3/envs/mle9-env/lib/python3.10/site-packages (from requests<2.29,>=2.24.0->pandas_profiling) (3.4)\n",
      "Requirement already satisfied: patsy>=0.5.2 in /Users/sushmitavijofficecomputer/miniconda3/envs/mle9-env/lib/python3.10/site-packages (from statsmodels<0.14,>=0.13.2->pandas_profiling) (0.5.2)\n",
      "Requirement already satisfied: PyWavelets in /Users/sushmitavijofficecomputer/miniconda3/envs/mle9-env/lib/python3.10/site-packages (from imagehash->visions[type_image_path]==0.7.5->pandas_profiling) (1.4.1)\n",
      "Note: you may need to restart the kernel to use updated packages.\n"
     ]
    }
   ],
   "source": [
    "pip install numpy pandas pandas_profiling"
   ]
  },
  {
   "cell_type": "code",
   "execution_count": 2,
   "metadata": {},
   "outputs": [
    {
     "name": "stdout",
     "output_type": "stream",
     "text": [
      "Requirement already satisfied: plotly in /Users/sushmitavijofficecomputer/miniconda3/envs/mle9-env/lib/python3.10/site-packages (5.10.0)\n",
      "Requirement already satisfied: sklearn in /Users/sushmitavijofficecomputer/miniconda3/envs/mle9-env/lib/python3.10/site-packages (0.0)\n",
      "Requirement already satisfied: shap in /Users/sushmitavijofficecomputer/miniconda3/envs/mle9-env/lib/python3.10/site-packages (0.41.0)\n",
      "Requirement already satisfied: tpot in /Users/sushmitavijofficecomputer/miniconda3/envs/mle9-env/lib/python3.10/site-packages (0.11.7)\n",
      "Requirement already satisfied: streamlit in /Users/sushmitavijofficecomputer/miniconda3/envs/mle9-env/lib/python3.10/site-packages (1.12.2)\n",
      "Requirement already satisfied: tenacity>=6.2.0 in /Users/sushmitavijofficecomputer/miniconda3/envs/mle9-env/lib/python3.10/site-packages (from plotly) (8.0.1)\n",
      "Requirement already satisfied: scikit-learn in /Users/sushmitavijofficecomputer/miniconda3/envs/mle9-env/lib/python3.10/site-packages (from sklearn) (1.1.2)\n",
      "Requirement already satisfied: pandas in /Users/sushmitavijofficecomputer/miniconda3/envs/mle9-env/lib/python3.10/site-packages (from shap) (1.4.4)\n",
      "Requirement already satisfied: slicer==0.0.7 in /Users/sushmitavijofficecomputer/miniconda3/envs/mle9-env/lib/python3.10/site-packages (from shap) (0.0.7)\n",
      "Requirement already satisfied: numpy in /Users/sushmitavijofficecomputer/miniconda3/envs/mle9-env/lib/python3.10/site-packages (from shap) (1.23.3)\n",
      "Requirement already satisfied: cloudpickle in /Users/sushmitavijofficecomputer/miniconda3/envs/mle9-env/lib/python3.10/site-packages (from shap) (2.2.0)\n",
      "Requirement already satisfied: numba in /Users/sushmitavijofficecomputer/miniconda3/envs/mle9-env/lib/python3.10/site-packages (from shap) (0.56.2)\n",
      "Requirement already satisfied: packaging>20.9 in /Users/sushmitavijofficecomputer/miniconda3/envs/mle9-env/lib/python3.10/site-packages (from shap) (21.3)\n",
      "Requirement already satisfied: tqdm>4.25.0 in /Users/sushmitavijofficecomputer/miniconda3/envs/mle9-env/lib/python3.10/site-packages (from shap) (4.64.1)\n",
      "Requirement already satisfied: scipy in /Users/sushmitavijofficecomputer/miniconda3/envs/mle9-env/lib/python3.10/site-packages (from shap) (1.9.1)\n",
      "Requirement already satisfied: stopit>=1.1.1 in /Users/sushmitavijofficecomputer/miniconda3/envs/mle9-env/lib/python3.10/site-packages (from tpot) (1.1.2)\n",
      "Requirement already satisfied: deap>=1.2 in /Users/sushmitavijofficecomputer/miniconda3/envs/mle9-env/lib/python3.10/site-packages (from tpot) (1.3.3)\n",
      "Requirement already satisfied: update-checker>=0.16 in /Users/sushmitavijofficecomputer/miniconda3/envs/mle9-env/lib/python3.10/site-packages (from tpot) (0.18.0)\n",
      "Requirement already satisfied: joblib>=0.13.2 in /Users/sushmitavijofficecomputer/miniconda3/envs/mle9-env/lib/python3.10/site-packages (from tpot) (1.1.0)\n",
      "Requirement already satisfied: xgboost>=1.1.0 in /Users/sushmitavijofficecomputer/miniconda3/envs/mle9-env/lib/python3.10/site-packages (from tpot) (1.6.2)\n",
      "Requirement already satisfied: requests>=2.4 in /Users/sushmitavijofficecomputer/miniconda3/envs/mle9-env/lib/python3.10/site-packages (from streamlit) (2.28.1)\n",
      "Requirement already satisfied: tornado>=5.0 in /Users/sushmitavijofficecomputer/miniconda3/envs/mle9-env/lib/python3.10/site-packages (from streamlit) (6.1)\n",
      "Requirement already satisfied: protobuf<4,>=3.12 in /Users/sushmitavijofficecomputer/miniconda3/envs/mle9-env/lib/python3.10/site-packages (from streamlit) (3.20.2)\n",
      "Requirement already satisfied: altair>=3.2.0 in /Users/sushmitavijofficecomputer/miniconda3/envs/mle9-env/lib/python3.10/site-packages (from streamlit) (4.2.0)\n",
      "Requirement already satisfied: toml in /Users/sushmitavijofficecomputer/miniconda3/envs/mle9-env/lib/python3.10/site-packages (from streamlit) (0.10.2)\n",
      "Requirement already satisfied: pydeck>=0.1.dev5 in /Users/sushmitavijofficecomputer/miniconda3/envs/mle9-env/lib/python3.10/site-packages (from streamlit) (0.8.0b3)\n",
      "Requirement already satisfied: blinker>=1.0.0 in /Users/sushmitavijofficecomputer/miniconda3/envs/mle9-env/lib/python3.10/site-packages (from streamlit) (1.5)\n",
      "Requirement already satisfied: gitpython!=3.1.19 in /Users/sushmitavijofficecomputer/miniconda3/envs/mle9-env/lib/python3.10/site-packages (from streamlit) (3.1.27)\n",
      "Requirement already satisfied: python-dateutil in /Users/sushmitavijofficecomputer/miniconda3/envs/mle9-env/lib/python3.10/site-packages (from streamlit) (2.8.2)\n",
      "Requirement already satisfied: click>=7.0 in /Users/sushmitavijofficecomputer/miniconda3/envs/mle9-env/lib/python3.10/site-packages (from streamlit) (8.1.3)\n",
      "Requirement already satisfied: validators>=0.2 in /Users/sushmitavijofficecomputer/miniconda3/envs/mle9-env/lib/python3.10/site-packages (from streamlit) (0.20.0)\n",
      "Requirement already satisfied: pyarrow>=4.0 in /Users/sushmitavijofficecomputer/miniconda3/envs/mle9-env/lib/python3.10/site-packages (from streamlit) (9.0.0)\n",
      "Requirement already satisfied: typing-extensions>=3.10.0.0 in /Users/sushmitavijofficecomputer/miniconda3/envs/mle9-env/lib/python3.10/site-packages (from streamlit) (4.3.0)\n",
      "Requirement already satisfied: pillow>=6.2.0 in /Users/sushmitavijofficecomputer/miniconda3/envs/mle9-env/lib/python3.10/site-packages (from streamlit) (9.2.0)\n",
      "Requirement already satisfied: rich>=10.11.0 in /Users/sushmitavijofficecomputer/miniconda3/envs/mle9-env/lib/python3.10/site-packages (from streamlit) (12.5.1)\n",
      "Requirement already satisfied: importlib-metadata>=1.4 in /Users/sushmitavijofficecomputer/miniconda3/envs/mle9-env/lib/python3.10/site-packages (from streamlit) (4.12.0)\n",
      "Requirement already satisfied: tzlocal>=1.1 in /Users/sushmitavijofficecomputer/miniconda3/envs/mle9-env/lib/python3.10/site-packages (from streamlit) (4.2)\n",
      "Requirement already satisfied: pympler>=0.9 in /Users/sushmitavijofficecomputer/miniconda3/envs/mle9-env/lib/python3.10/site-packages (from streamlit) (1.0.1)\n",
      "Requirement already satisfied: semver in /Users/sushmitavijofficecomputer/miniconda3/envs/mle9-env/lib/python3.10/site-packages (from streamlit) (2.13.0)\n",
      "Requirement already satisfied: cachetools>=4.0 in /Users/sushmitavijofficecomputer/miniconda3/envs/mle9-env/lib/python3.10/site-packages (from streamlit) (5.2.0)\n",
      "Requirement already satisfied: jinja2 in /Users/sushmitavijofficecomputer/miniconda3/envs/mle9-env/lib/python3.10/site-packages (from altair>=3.2.0->streamlit) (3.1.2)\n",
      "Requirement already satisfied: jsonschema>=3.0 in /Users/sushmitavijofficecomputer/miniconda3/envs/mle9-env/lib/python3.10/site-packages (from altair>=3.2.0->streamlit) (4.16.0)\n",
      "Requirement already satisfied: entrypoints in /Users/sushmitavijofficecomputer/miniconda3/envs/mle9-env/lib/python3.10/site-packages (from altair>=3.2.0->streamlit) (0.4)\n",
      "Requirement already satisfied: toolz in /Users/sushmitavijofficecomputer/miniconda3/envs/mle9-env/lib/python3.10/site-packages (from altair>=3.2.0->streamlit) (0.12.0)\n",
      "Requirement already satisfied: gitdb<5,>=4.0.1 in /Users/sushmitavijofficecomputer/miniconda3/envs/mle9-env/lib/python3.10/site-packages (from gitpython!=3.1.19->streamlit) (4.0.9)\n",
      "Requirement already satisfied: zipp>=0.5 in /Users/sushmitavijofficecomputer/miniconda3/envs/mle9-env/lib/python3.10/site-packages (from importlib-metadata>=1.4->streamlit) (3.8.1)\n",
      "Requirement already satisfied: pyparsing!=3.0.5,>=2.0.2 in /Users/sushmitavijofficecomputer/miniconda3/envs/mle9-env/lib/python3.10/site-packages (from packaging>20.9->shap) (3.0.9)\n",
      "Requirement already satisfied: pytz>=2020.1 in /Users/sushmitavijofficecomputer/miniconda3/envs/mle9-env/lib/python3.10/site-packages (from pandas->shap) (2022.1)\n",
      "Requirement already satisfied: six>=1.5 in /Users/sushmitavijofficecomputer/miniconda3/envs/mle9-env/lib/python3.10/site-packages (from python-dateutil->streamlit) (1.16.0)\n",
      "Requirement already satisfied: idna<4,>=2.5 in /Users/sushmitavijofficecomputer/miniconda3/envs/mle9-env/lib/python3.10/site-packages (from requests>=2.4->streamlit) (3.4)\n",
      "Requirement already satisfied: certifi>=2017.4.17 in /Users/sushmitavijofficecomputer/miniconda3/envs/mle9-env/lib/python3.10/site-packages (from requests>=2.4->streamlit) (2022.6.15)\n",
      "Requirement already satisfied: charset-normalizer<3,>=2 in /Users/sushmitavijofficecomputer/miniconda3/envs/mle9-env/lib/python3.10/site-packages (from requests>=2.4->streamlit) (2.1.1)\n",
      "Requirement already satisfied: urllib3<1.27,>=1.21.1 in /Users/sushmitavijofficecomputer/miniconda3/envs/mle9-env/lib/python3.10/site-packages (from requests>=2.4->streamlit) (1.26.12)\n",
      "Requirement already satisfied: pygments<3.0.0,>=2.6.0 in /Users/sushmitavijofficecomputer/miniconda3/envs/mle9-env/lib/python3.10/site-packages (from rich>=10.11.0->streamlit) (2.11.2)\n",
      "Requirement already satisfied: commonmark<0.10.0,>=0.9.0 in /Users/sushmitavijofficecomputer/miniconda3/envs/mle9-env/lib/python3.10/site-packages (from rich>=10.11.0->streamlit) (0.9.1)\n"
     ]
    },
    {
     "name": "stdout",
     "output_type": "stream",
     "text": [
      "Requirement already satisfied: threadpoolctl>=2.0.0 in /Users/sushmitavijofficecomputer/miniconda3/envs/mle9-env/lib/python3.10/site-packages (from scikit-learn->sklearn) (3.1.0)\n",
      "Requirement already satisfied: pytz-deprecation-shim in /Users/sushmitavijofficecomputer/miniconda3/envs/mle9-env/lib/python3.10/site-packages (from tzlocal>=1.1->streamlit) (0.1.0.post0)\n",
      "Requirement already satisfied: decorator>=3.4.0 in /Users/sushmitavijofficecomputer/miniconda3/envs/mle9-env/lib/python3.10/site-packages (from validators>=0.2->streamlit) (5.1.1)\n",
      "Requirement already satisfied: setuptools<60 in /Users/sushmitavijofficecomputer/miniconda3/envs/mle9-env/lib/python3.10/site-packages (from numba->shap) (59.8.0)\n",
      "Requirement already satisfied: llvmlite<0.40,>=0.39.0dev0 in /Users/sushmitavijofficecomputer/miniconda3/envs/mle9-env/lib/python3.10/site-packages (from numba->shap) (0.39.1)\n",
      "Requirement already satisfied: smmap<6,>=3.0.1 in /Users/sushmitavijofficecomputer/miniconda3/envs/mle9-env/lib/python3.10/site-packages (from gitdb<5,>=4.0.1->gitpython!=3.1.19->streamlit) (5.0.0)\n",
      "Requirement already satisfied: MarkupSafe>=2.0 in /Users/sushmitavijofficecomputer/miniconda3/envs/mle9-env/lib/python3.10/site-packages (from jinja2->altair>=3.2.0->streamlit) (2.1.1)\n",
      "Requirement already satisfied: attrs>=17.4.0 in /Users/sushmitavijofficecomputer/miniconda3/envs/mle9-env/lib/python3.10/site-packages (from jsonschema>=3.0->altair>=3.2.0->streamlit) (22.1.0)\n",
      "Requirement already satisfied: pyrsistent!=0.17.0,!=0.17.1,!=0.17.2,>=0.14.0 in /Users/sushmitavijofficecomputer/miniconda3/envs/mle9-env/lib/python3.10/site-packages (from jsonschema>=3.0->altair>=3.2.0->streamlit) (0.18.1)\n",
      "Requirement already satisfied: tzdata in /Users/sushmitavijofficecomputer/miniconda3/envs/mle9-env/lib/python3.10/site-packages (from pytz-deprecation-shim->tzlocal>=1.1->streamlit) (2022.2)\n",
      "Note: you may need to restart the kernel to use updated packages.\n"
     ]
    }
   ],
   "source": [
    "pip install plotly sklearn shap tpot streamlit"
   ]
  },
  {
   "cell_type": "code",
   "execution_count": 4,
   "metadata": {},
   "outputs": [],
   "source": [
    "import tqdm as notebook_tqdm"
   ]
  },
  {
   "cell_type": "code",
   "execution_count": 5,
   "metadata": {},
   "outputs": [
    {
     "name": "stdout",
     "output_type": "stream",
     "text": [
      "Collecting torch\n",
      "  Downloading torch-1.12.1-cp310-none-macosx_10_9_x86_64.whl (133.8 MB)\n",
      "\u001b[2K     \u001b[91m━\u001b[0m\u001b[91m╸\u001b[0m\u001b[90m━━━━━━━━━━━━━━━━━━━━━━━━━━━━━━━━━━━━━━\u001b[0m \u001b[32m5.5/133.8 MB\u001b[0m \u001b[31m22.3 kB/s\u001b[0m eta \u001b[36m1:35:53\u001b[0m\n",
      "\u001b[?25h\u001b[31mERROR: Exception:\n",
      "Traceback (most recent call last):\n",
      "  File \"/Users/sushmitavijofficecomputer/miniconda3/envs/mle9-env/lib/python3.10/site-packages/pip/_vendor/urllib3/response.py\", line 435, in _error_catcher\n",
      "    yield\n",
      "  File \"/Users/sushmitavijofficecomputer/miniconda3/envs/mle9-env/lib/python3.10/site-packages/pip/_vendor/urllib3/response.py\", line 516, in read\n",
      "    data = self._fp.read(amt) if not fp_closed else b\"\"\n",
      "  File \"/Users/sushmitavijofficecomputer/miniconda3/envs/mle9-env/lib/python3.10/site-packages/pip/_vendor/cachecontrol/filewrapper.py\", line 90, in read\n",
      "    data = self.__fp.read(amt)\n",
      "  File \"/Users/sushmitavijofficecomputer/miniconda3/envs/mle9-env/lib/python3.10/http/client.py\", line 465, in read\n",
      "    s = self.fp.read(amt)\n",
      "  File \"/Users/sushmitavijofficecomputer/miniconda3/envs/mle9-env/lib/python3.10/socket.py\", line 705, in readinto\n",
      "    return self._sock.recv_into(b)\n",
      "  File \"/Users/sushmitavijofficecomputer/miniconda3/envs/mle9-env/lib/python3.10/ssl.py\", line 1273, in recv_into\n",
      "    return self.read(nbytes, buffer)\n",
      "  File \"/Users/sushmitavijofficecomputer/miniconda3/envs/mle9-env/lib/python3.10/ssl.py\", line 1129, in read\n",
      "    return self._sslobj.read(len, buffer)\n",
      "TimeoutError: The read operation timed out\n",
      "\n",
      "During handling of the above exception, another exception occurred:\n",
      "\n",
      "Traceback (most recent call last):\n",
      "  File \"/Users/sushmitavijofficecomputer/miniconda3/envs/mle9-env/lib/python3.10/site-packages/pip/_internal/cli/base_command.py\", line 167, in exc_logging_wrapper\n",
      "    status = run_func(*args)\n",
      "  File \"/Users/sushmitavijofficecomputer/miniconda3/envs/mle9-env/lib/python3.10/site-packages/pip/_internal/cli/req_command.py\", line 247, in wrapper\n",
      "    return func(self, options, args)\n",
      "  File \"/Users/sushmitavijofficecomputer/miniconda3/envs/mle9-env/lib/python3.10/site-packages/pip/_internal/commands/install.py\", line 369, in run\n",
      "    requirement_set = resolver.resolve(\n",
      "  File \"/Users/sushmitavijofficecomputer/miniconda3/envs/mle9-env/lib/python3.10/site-packages/pip/_internal/resolution/resolvelib/resolver.py\", line 92, in resolve\n",
      "    result = self._result = resolver.resolve(\n",
      "  File \"/Users/sushmitavijofficecomputer/miniconda3/envs/mle9-env/lib/python3.10/site-packages/pip/_vendor/resolvelib/resolvers.py\", line 481, in resolve\n",
      "    state = resolution.resolve(requirements, max_rounds=max_rounds)\n",
      "  File \"/Users/sushmitavijofficecomputer/miniconda3/envs/mle9-env/lib/python3.10/site-packages/pip/_vendor/resolvelib/resolvers.py\", line 348, in resolve\n",
      "    self._add_to_criteria(self.state.criteria, r, parent=None)\n",
      "  File \"/Users/sushmitavijofficecomputer/miniconda3/envs/mle9-env/lib/python3.10/site-packages/pip/_vendor/resolvelib/resolvers.py\", line 172, in _add_to_criteria\n",
      "    if not criterion.candidates:\n",
      "  File \"/Users/sushmitavijofficecomputer/miniconda3/envs/mle9-env/lib/python3.10/site-packages/pip/_vendor/resolvelib/structs.py\", line 151, in __bool__\n",
      "    return bool(self._sequence)\n",
      "  File \"/Users/sushmitavijofficecomputer/miniconda3/envs/mle9-env/lib/python3.10/site-packages/pip/_internal/resolution/resolvelib/found_candidates.py\", line 155, in __bool__\n",
      "    return any(self)\n",
      "  File \"/Users/sushmitavijofficecomputer/miniconda3/envs/mle9-env/lib/python3.10/site-packages/pip/_internal/resolution/resolvelib/found_candidates.py\", line 143, in <genexpr>\n",
      "    return (c for c in iterator if id(c) not in self._incompatible_ids)\n",
      "  File \"/Users/sushmitavijofficecomputer/miniconda3/envs/mle9-env/lib/python3.10/site-packages/pip/_internal/resolution/resolvelib/found_candidates.py\", line 47, in _iter_built\n",
      "    candidate = func()\n",
      "  File \"/Users/sushmitavijofficecomputer/miniconda3/envs/mle9-env/lib/python3.10/site-packages/pip/_internal/resolution/resolvelib/factory.py\", line 206, in _make_candidate_from_link\n",
      "    self._link_candidate_cache[link] = LinkCandidate(\n",
      "  File \"/Users/sushmitavijofficecomputer/miniconda3/envs/mle9-env/lib/python3.10/site-packages/pip/_internal/resolution/resolvelib/candidates.py\", line 297, in __init__\n",
      "    super().__init__(\n",
      "  File \"/Users/sushmitavijofficecomputer/miniconda3/envs/mle9-env/lib/python3.10/site-packages/pip/_internal/resolution/resolvelib/candidates.py\", line 162, in __init__\n",
      "    self.dist = self._prepare()\n",
      "  File \"/Users/sushmitavijofficecomputer/miniconda3/envs/mle9-env/lib/python3.10/site-packages/pip/_internal/resolution/resolvelib/candidates.py\", line 231, in _prepare\n",
      "    dist = self._prepare_distribution()\n",
      "  File \"/Users/sushmitavijofficecomputer/miniconda3/envs/mle9-env/lib/python3.10/site-packages/pip/_internal/resolution/resolvelib/candidates.py\", line 308, in _prepare_distribution\n",
      "    return preparer.prepare_linked_requirement(self._ireq, parallel_builds=True)\n",
      "  File \"/Users/sushmitavijofficecomputer/miniconda3/envs/mle9-env/lib/python3.10/site-packages/pip/_internal/operations/prepare.py\", line 438, in prepare_linked_requirement\n",
      "    return self._prepare_linked_requirement(req, parallel_builds)\n",
      "  File \"/Users/sushmitavijofficecomputer/miniconda3/envs/mle9-env/lib/python3.10/site-packages/pip/_internal/operations/prepare.py\", line 483, in _prepare_linked_requirement\n",
      "    local_file = unpack_url(\n",
      "  File \"/Users/sushmitavijofficecomputer/miniconda3/envs/mle9-env/lib/python3.10/site-packages/pip/_internal/operations/prepare.py\", line 165, in unpack_url\n",
      "    file = get_http_url(\n",
      "  File \"/Users/sushmitavijofficecomputer/miniconda3/envs/mle9-env/lib/python3.10/site-packages/pip/_internal/operations/prepare.py\", line 106, in get_http_url\n",
      "    from_path, content_type = download(link, temp_dir.path)\n",
      "  File \"/Users/sushmitavijofficecomputer/miniconda3/envs/mle9-env/lib/python3.10/site-packages/pip/_internal/network/download.py\", line 147, in __call__\n",
      "    for chunk in chunks:\n",
      "  File \"/Users/sushmitavijofficecomputer/miniconda3/envs/mle9-env/lib/python3.10/site-packages/pip/_internal/cli/progress_bars.py\", line 53, in _rich_progress_bar\n",
      "    for chunk in iterable:\n",
      "  File \"/Users/sushmitavijofficecomputer/miniconda3/envs/mle9-env/lib/python3.10/site-packages/pip/_internal/network/utils.py\", line 63, in response_chunks\n",
      "    for chunk in response.raw.stream(\n",
      "  File \"/Users/sushmitavijofficecomputer/miniconda3/envs/mle9-env/lib/python3.10/site-packages/pip/_vendor/urllib3/response.py\", line 573, in stream\n",
      "    data = self.read(amt=amt, decode_content=decode_content)\n",
      "  File \"/Users/sushmitavijofficecomputer/miniconda3/envs/mle9-env/lib/python3.10/site-packages/pip/_vendor/urllib3/response.py\", line 509, in read\n",
      "    with self._error_catcher():\n",
      "  File \"/Users/sushmitavijofficecomputer/miniconda3/envs/mle9-env/lib/python3.10/contextlib.py\", line 153, in __exit__\n",
      "    self.gen.throw(typ, value, traceback)\n",
      "  File \"/Users/sushmitavijofficecomputer/miniconda3/envs/mle9-env/lib/python3.10/site-packages/pip/_vendor/urllib3/response.py\", line 440, in _error_catcher\n",
      "    raise ReadTimeoutError(self._pool, None, \"Read timed out.\")\n",
      "pip._vendor.urllib3.exceptions.ReadTimeoutError: HTTPSConnectionPool(host='files.pythonhosted.org', port=443): Read timed out.\u001b[0m\u001b[31m\n",
      "\u001b[0mNote: you may need to restart the kernel to use updated packages.\n"
     ]
    }
   ],
   "source": [
    "pip install torch"
   ]
  },
  {
   "cell_type": "code",
   "execution_count": 6,
   "metadata": {},
   "outputs": [],
   "source": [
    "import numpy as np\n",
    "import pandas as pd\n",
    "from pandas_profiling import ProfileReport\n",
    "import matplotlib.pyplot as plt\n",
    "import plotly \n",
    "import sklearn \n",
    "import shap\n",
    "import tpot\n",
    "import streamlit as st"
   ]
  },
  {
   "cell_type": "code",
   "execution_count": null,
   "metadata": {},
   "outputs": [],
   "source": []
  }
 ],
 "metadata": {
  "kernelspec": {
   "display_name": "mle9",
   "language": "python",
   "name": "mle9-env"
  },
  "language_info": {
   "codemirror_mode": {
    "name": "ipython",
    "version": 3
   },
   "file_extension": ".py",
   "mimetype": "text/x-python",
   "name": "python",
   "nbconvert_exporter": "python",
   "pygments_lexer": "ipython3",
   "version": "3.10.4"
  },
  "toc": {
   "base_numbering": 1,
   "nav_menu": {},
   "number_sections": true,
   "sideBar": true,
   "skip_h1_title": false,
   "title_cell": "Table of Contents",
   "title_sidebar": "Contents",
   "toc_cell": false,
   "toc_position": {},
   "toc_section_display": true,
   "toc_window_display": false
  },
  "vscode": {
   "interpreter": {
    "hash": "c57794392b841cffd8686d5c4548e4e2ec78521f49300d60954d1380f1b4bd1f"
   }
  }
 },
 "nbformat": 4,
 "nbformat_minor": 2
}
